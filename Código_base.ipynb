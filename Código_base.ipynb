{
  "nbformat": 4,
  "nbformat_minor": 0,
  "metadata": {
    "colab": {
      "provenance": [],
      "authorship_tag": "ABX9TyPYLqFRQxBtNHe0d7anTg/M",
      "include_colab_link": true
    },
    "kernelspec": {
      "name": "python3",
      "display_name": "Python 3"
    },
    "language_info": {
      "name": "python"
    }
  },
  "cells": [
    {
      "cell_type": "markdown",
      "metadata": {
        "id": "view-in-github",
        "colab_type": "text"
      },
      "source": [
        "<a href=\"https://colab.research.google.com/github/LeoFCastro/Cartao-amarelo-cartao-vermelho-faltas/blob/main/C%C3%B3digo_base.ipynb\" target=\"_parent\"><img src=\"https://colab.research.google.com/assets/colab-badge.svg\" alt=\"Open In Colab\"/></a>"
      ]
    },
    {
      "cell_type": "code",
      "execution_count": null,
      "metadata": {
        "colab": {
          "base_uri": "https://localhost:8080/",
          "height": 130
        },
        "id": "g5lu-GzmY1rv",
        "outputId": "93fa4f7c-0c52-4e65-e691-4fbb02b6cd98"
      },
      "outputs": [
        {
          "output_type": "error",
          "ename": "SyntaxError",
          "evalue": "ignored",
          "traceback": [
            "\u001b[0;36m  File \u001b[0;32m\"<ipython-input-5-27a1ca1223aa>\"\u001b[0;36m, line \u001b[0;32m10\u001b[0m\n\u001b[0;31m    Time1 =\u001b[0m\n\u001b[0m            ^\u001b[0m\n\u001b[0;31mSyntaxError\u001b[0m\u001b[0;31m:\u001b[0m invalid syntax\n"
          ]
        }
      ],
      "source": [
        "from typing import Any\n",
        "\n",
        "import plotly.express as px\n",
        "from plotly.graph_objects import Figure\n",
        "from pandas import DataFrame\n",
        "\n",
        "from data_migrator import df\n",
        "from utils import filter_columns, filter_values\n",
        "\n",
        "Time1 = \n",
        "Time2 = \n",
        "config = {\"title\": {\"text\": f\"{Time1} contra {Time2}\", \"x\": 0.5}}\n",
        "labels = {\"yellow cards team1\": \"Cartões Amarelos Time 1\", \"red cards team1\": \"Cartões Vermelhos Time 1\", \"fouls against team1\": \"Faltas contra time 1\", \"yellow cards team2\": \"Cartões Amarelos Time 2\", \"red cards team2\": \"Cartões Vermelhos Time 2\", \"fouls against team2\": \"Faltas contra time 2\"}\n",
        "\n",
        "def create_chart(\n",
        "    df: DataFrame,\n",
        "    labels: dict[str, str] = labels,\n",
        "    config: dict[str, Any] = config\n",
        " ) -> Figure:\n",
        "    chart = px.pie(\n",
        "        df,\n",
        "        values = \"yellow cards team1\" \"yellow cards team2\" \"red cards team1\" \"red cards team2\" \"fouls agains team1\" \"fouls against team2\",\n",
        "        names = \"Cartões Amarelos, Vermelhos e Faltas\",\n",
        "        labels = labels,\n",
        "    )\n",
        "\n",
        "    chart.update_layout(config)\n",
        "    return chart\n",
        "\n",
        "filtered_columns = filter_columns(df,\"yellow cards team1\" \"yellow cards team2\" \"red cards team1\" \"red cards team2\" \"fouls agains team1\" \"fouls against team2\")\n",
        "filtered_df = filtervalues(filtered_columns, \"team1\", \"team2\", {Time1}, {Time2})\n",
        "chart = create_chart(filtered_df, labels)"
      ]
    }
  ]
}