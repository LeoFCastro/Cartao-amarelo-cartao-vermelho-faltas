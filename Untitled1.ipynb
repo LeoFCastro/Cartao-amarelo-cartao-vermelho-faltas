{
  "nbformat": 4,
  "nbformat_minor": 0,
  "metadata": {
    "colab": {
      "provenance": [],
      "authorship_tag": "ABX9TyNGfpkqToVQQRbRAiyApN66",
      "include_colab_link": true
    },
    "kernelspec": {
      "name": "python3",
      "display_name": "Python 3"
    },
    "language_info": {
      "name": "python"
    }
  },
  "cells": [
    {
      "cell_type": "markdown",
      "metadata": {
        "id": "view-in-github",
        "colab_type": "text"
      },
      "source": [
        "<a href=\"https://colab.research.google.com/github/LeoFCastro/Cartao-amarelo-cartao-vermelho-faltas/blob/main/Untitled1.ipynb\" target=\"_parent\"><img src=\"https://colab.research.google.com/assets/colab-badge.svg\" alt=\"Open In Colab\"/></a>"
      ]
    },
    {
      "cell_type": "code",
      "execution_count": null,
      "metadata": {
        "colab": {
          "base_uri": "https://localhost:8080/",
          "height": 130
        },
        "id": "g5lu-GzmY1rv",
        "outputId": "93fa4f7c-0c52-4e65-e691-4fbb02b6cd98"
      },
      "outputs": [
        {
          "output_type": "error",
          "ename": "SyntaxError",
          "evalue": "ignored",
          "traceback": [
            "\u001b[0;36m  File \u001b[0;32m\"<ipython-input-5-27a1ca1223aa>\"\u001b[0;36m, line \u001b[0;32m10\u001b[0m\n\u001b[0;31m    Time1 =\u001b[0m\n\u001b[0m            ^\u001b[0m\n\u001b[0;31mSyntaxError\u001b[0m\u001b[0;31m:\u001b[0m invalid syntax\n"
          ]
        }
      ],
      "source": [
        "#tentativa de ler o dataset\n",
        "def dataset():\n",
        "#sqlite3 pra ler o arquivo\n",
        "  import os\n",
        "  import pandas\n",
        "  import sqlite3\n",
        "\n",
        "#função pra tirar as vírgulas das colunas\n",
        "  def format_number(value: str) -> int:\n",
        "    return int(value.replace(\",\",\" \"))\n",
        "\n",
        "#função pra ler as colunas que vão aparecer no gráfico\n",
        "  def initialize_database() -> None:\n",
        "    columns = [\n",
        "        \"team1\",\n",
        "        \"yellow cards team1\",\n",
        "        \"red cards team1\",\n",
        "        \"faults against team1\"\n",
        "        \"team2\",\n",
        "        \"yellow cards team2\",\n",
        "        \"red cards team2\",\n",
        "        \"faults against team2\",\n",
        "    ]\n",
        "\n",
        "    encoding = \"unicode_escape\"\n",
        "    filename = \"\"\n",
        "\n",
        "#cria um path pro arquivo e faz o pandas ler o dataset\n",
        "    path = f\"data/{file}\"\n",
        "    df = pandas.read_sql(sql, comn)\n",
        "\n",
        "#\n",
        "    cursor>close()\n",
        "    comn.close()"
      ]
    },
    {
      "cell_type": "code",
      "source": [
        "from typing import Any\n",
        "\n",
        "#bibliotecas pra printar o gráfico\n",
        "import plotly.express as px\n",
        "from plotly.graph_objects import Figure\n",
        "from pandas import DataFrame\n",
        "\n",
        "#puxa os dados do dataset(função anterior)\n",
        "from dataset import df\n",
        "\n",
        "#utils é uma função que não defini ainda mas tenho que definir depois\n",
        "from utils import filter_columns, filter_values\n",
        "\n",
        "#aqui provavelmente precisa melhorar, a ideia até agora é escrever quais são os times que vão aparecer no gráfico e pegar os dados das linhas deles\n",
        "#aqui tem grande chance de dar erro, seria melhor mostrar os gráficos de todosa os jogos sem precisar definir isso diretamente no código\n",
        "#fazer isso faria esse ncódigo ficar mais geral e não precisaria fazer a mesma coisa manualmente várias vezes\n",
        "Time1 = \n",
        "Time2 = \n",
        "config = {\"title\": {\"text\": f\"{Time1} contra {Time2}\", \"x\": 0.5}}\n",
        "labels = {\"yellow cards team1\": \"Cartões Amarelos Time 1\", \"red cards team1\": \"Cartões Vermelhos Time 1\", \"fouls against team1\": \"Faltas contra time 1\", \"yellow cards team2\": \"Cartões Amarelos Time 2\", \"red cards team2\": \"Cartões Vermelhos Time 2\", \"fouls against team2\": \"Faltas contra time 2\"}\n",
        "\n",
        "#define o layout do gráfico\n",
        "def create_chart(\n",
        "    df: DataFrame,\n",
        "    labels: dict[str, str] = labels,\n",
        "    config: dict[str, Any] = config\n",
        " ) -> Figure:\n",
        "    chart = px.pie(\n",
        "        df,\n",
        "        values = \"yellow cards team1\" \"yellow cards team2\" \"red cards team1\" \"red cards team2\" \"fouls agains team1\" \"fouls against team2\",\n",
        "        names = \"Cartões Amarelos, Vermelhos e Faltas\",\n",
        "        labels = labels,\n",
        "    )\n",
        "\n",
        "    chart.update_layout(config)\n",
        "    return chart\n",
        "\n",
        "#aqui puxa os dados das colunas do dataset, mas ainda não está funcionando porque a função do dataset está incompleta\n",
        "#funções filter_columns e filter_values precisam ser definidas pra filtrar cada linha por time\n",
        "filtered_columns = filter_columns(df,\"yellow cards team1\" \"yellow cards team2\" \"red cards team1\" \"red cards team2\" \"fouls agains team1\" \"fouls against team2\")\n",
        "filtered_df = filter_values(filtered_columns, \"team1\", \"team2\", {Time1}, {Time2})\n",
        "#mostra o gráfico\n",
        "chart = create_chart(filtered_df, labels)"
      ],
      "metadata": {
        "id": "M7oCDzTU6lPE"
      },
      "execution_count": null,
      "outputs": []
    }
  ]
}